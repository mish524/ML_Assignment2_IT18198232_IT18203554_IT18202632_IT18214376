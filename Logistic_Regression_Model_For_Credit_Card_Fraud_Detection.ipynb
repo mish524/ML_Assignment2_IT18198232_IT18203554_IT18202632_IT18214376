{
 "cells": [
  {
   "cell_type": "markdown",
   "metadata": {},
   "source": [
    "# Machine Learning – Assignment 2\n",
    "### Title - **Credit Card Fraud Detection**\n",
    "### Used Algorithm - **Logistic Regression**\n",
    "### Dataset - \n",
    "*   The dataset link is [Credit card fraud](https://www.kaggle.com/datasets/mlg-ulb/creditcardfraud) and it is from kaggle online website\n",
    "*   The usability of the dataset is 8.53\n",
    "* There are 31 features in this dataset some of the features are hidden due to the confidentiality. \n",
    "\n",
    "### Accuracy\n",
    "* Accuracy on training data :  99.89 %\n",
    "* Accuracy on test data :  99.91 %"
   ]
  },
  {
   "cell_type": "markdown",
   "metadata": {},
   "source": [
    "## 1)Importing the dependancies"
   ]
  },
  {
   "cell_type": "code",
   "execution_count": 1,
   "metadata": {},
   "outputs": [],
   "source": [
    "import numpy as np #numpy arrays\n",
    "import pandas as pd #use to dataframe\n",
    "from sklearn.model_selection import train_test_split #split data\n",
    "from sklearn.linear_model import LogisticRegression\n",
    "from sklearn.metrics import accuracy_score #evaluvate model\n",
    "import matplotlib.pyplot as plt\n",
    "import seaborn as sns\n",
    "from matplotlib import gridspec"
   ]
  },
  {
   "cell_type": "markdown",
   "metadata": {},
   "source": [
    "## 2)Data collecting process\n"
   ]
  },
  {
   "cell_type": "code",
   "execution_count": null,
   "metadata": {},
   "outputs": [],
   "source": [
    "#loading csv data to pandas dataframe\n",
    "data = pd.read_csv('C:\\\\Users\\\\Ravindi\\\\Downloads\\\\archive\\\\creditcard.csv')"
   ]
  }
 ],
 "metadata": {
  "interpreter": {
   "hash": "d9a6414fa631c028c434667d182c0b79dc634ffcd06f52fc304061a2c0b9ef26"
  },
  "kernelspec": {
   "display_name": "Python 3 (ipykernel)",
   "language": "python",
   "name": "python3"
  },
  "language_info": {
   "codemirror_mode": {
    "name": "ipython",
    "version": 3
   },
   "file_extension": ".py",
   "mimetype": "text/x-python",
   "name": "python",
   "nbconvert_exporter": "python",
   "pygments_lexer": "ipython3",
   "version": "3.9.7"
  }
 },
 "nbformat": 4,
 "nbformat_minor": 2
}
