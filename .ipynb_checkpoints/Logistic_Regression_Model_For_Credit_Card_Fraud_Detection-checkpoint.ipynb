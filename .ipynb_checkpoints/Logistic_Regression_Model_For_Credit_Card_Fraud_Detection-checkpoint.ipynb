{
 "cells": [
  {
   "cell_type": "markdown",
   "metadata": {},
   "source": [
    "# Machine Learning – Assignment 2\n",
    "### Title - **Credit Card Fraud Detection**\n",
    "### Used Algorithm - **Logistic Regression**\n",
    "### Dataset - \n",
    "*   The dataset link is [Credit card fraud](https://www.kaggle.com/datasets/mlg-ulb/creditcardfraud) and it is from kaggle online website\n",
    "*   The usability of the dataset is 8.53\n",
    "* There are 31 features in this dataset some of the features are hidden due to the confidentiality. \n",
    "\n",
    "### Accuracy\n",
    "* Accuracy on training data :  99.89 %\n",
    "* Accuracy on test data :  99.91 %"
   ]
  }
 ],
 "metadata": {
  "interpreter": {
   "hash": "d9a6414fa631c028c434667d182c0b79dc634ffcd06f52fc304061a2c0b9ef26"
  },
  "kernelspec": {
   "display_name": "Python 3",
   "language": "python",
   "name": "python3"
  },
  "language_info": {
   "codemirror_mode": {
    "name": "ipython",
    "version": 3
   },
   "file_extension": ".py",
   "mimetype": "text/x-python",
   "name": "python",
   "nbconvert_exporter": "python",
   "pygments_lexer": "ipython3",
   "version": "3.8.8"
  }
 },
 "nbformat": 4,
 "nbformat_minor": 2
}
